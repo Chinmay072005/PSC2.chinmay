{
 "cells": [
  {
   "cell_type": "code",
   "execution_count": 1,
   "id": "34c6c39d-84ec-4116-bd0b-a2b964e42a6c",
   "metadata": {},
   "outputs": [],
   "source": [
    "s = \" this is the first python programing class and i am learning python string and its function \""
   ]
  },
  {
   "cell_type": "code",
   "execution_count": 2,
   "id": "a9e010e7-d12f-494f-b285-d417c5afd047",
   "metadata": {},
   "outputs": [
    {
     "data": {
      "text/plain": [
       "' this is the first python programing class and i am learning python string and its function '"
      ]
     },
     "execution_count": 2,
     "metadata": {},
     "output_type": "execute_result"
    }
   ],
   "source": [
    "s"
   ]
  },
  {
   "cell_type": "code",
   "execution_count": 3,
   "id": "599a1803-9200-4772-bd76-cd00ed89fa9f",
   "metadata": {},
   "outputs": [
    {
     "data": {
      "text/plain": [
       "'tsshfsph oancsa alrnph rgni ni '"
      ]
     },
     "execution_count": 3,
     "metadata": {},
     "output_type": "execute_result"
    }
   ],
   "source": [
    "s[1:300:3]"
   ]
  },
  {
   "cell_type": "code",
   "execution_count": 7,
   "id": "089af33f-1e23-4c3d-877c-123e8382a77e",
   "metadata": {},
   "outputs": [],
   "source": [
    "s1 = \"we are learning problem solving using computation\""
   ]
  },
  {
   "cell_type": "code",
   "execution_count": 8,
   "id": "94a7b1dc-7e19-433d-b480-947cf731e5cc",
   "metadata": {},
   "outputs": [
    {
     "data": {
      "text/plain": [
       "'eea'"
      ]
     },
     "execution_count": 8,
     "metadata": {},
     "output_type": "execute_result"
    }
   ],
   "source": [
    "# Extract data from 1 to 10 with jump of 2\n",
    "s1[1:11:4]"
   ]
  },
  {
   "cell_type": "markdown",
   "id": "d43118aa-dee2-46a9-bbf0-e9bcb2e04472",
   "metadata": {},
   "source": [
    "2.Try to revers a string  without using revers function "
   ]
  },
  {
   "cell_type": "code",
   "execution_count": 9,
   "id": "a3d01231-153b-4355-a1b4-e7473490fcc4",
   "metadata": {},
   "outputs": [
    {
     "data": {
      "text/plain": [
       "' noitcnuf sti dna gnirts nohtyp gninrael ma i dna ssalc gnimargorp nohtyp tsrif eht si siht '"
      ]
     },
     "execution_count": 9,
     "metadata": {},
     "output_type": "execute_result"
    }
   ],
   "source": [
    "s[::-1]"
   ]
  },
  {
   "cell_type": "markdown",
   "id": "f207662a-4687-408c-ba8a-6ca81fcadecf",
   "metadata": {},
   "source": [
    "3. Try to split the string after the conversion of entire string in uppercase"
   ]
  },
  {
   "cell_type": "code",
   "execution_count": 10,
   "id": "0915e8c1-3bda-4802-9189-6d9110af9321",
   "metadata": {},
   "outputs": [
    {
     "data": {
      "text/plain": [
       "['THIS',\n",
       " 'IS',\n",
       " 'THE',\n",
       " 'FIRST',\n",
       " 'PYTHON',\n",
       " 'PROGRAMING',\n",
       " 'CLASS',\n",
       " 'AND',\n",
       " 'I',\n",
       " 'AM',\n",
       " 'LEARNING',\n",
       " 'PYTHON',\n",
       " 'STRING',\n",
       " 'AND',\n",
       " 'ITS',\n",
       " 'FUNCTION']"
      ]
     },
     "execution_count": 10,
     "metadata": {},
     "output_type": "execute_result"
    }
   ],
   "source": [
    "s1 = s.upper()\n",
    "s1.split()"
   ]
  },
  {
   "cell_type": "code",
   "execution_count": 11,
   "id": "729fcbf2-3192-4ba0-bb54-64671c9b0d7e",
   "metadata": {},
   "outputs": [
    {
     "data": {
      "text/plain": [
       "['THIS',\n",
       " 'IS',\n",
       " 'THE',\n",
       " 'FIRST',\n",
       " 'PYTHON',\n",
       " 'PROGRAMING',\n",
       " 'CLASS',\n",
       " 'AND',\n",
       " 'I',\n",
       " 'AM',\n",
       " 'LEARNING',\n",
       " 'PYTHON',\n",
       " 'STRING',\n",
       " 'AND',\n",
       " 'ITS',\n",
       " 'FUNCTION']"
      ]
     },
     "execution_count": 11,
     "metadata": {},
     "output_type": "execute_result"
    }
   ],
   "source": [
    "# Method 2\n",
    "s.upper().split()"
   ]
  },
  {
   "cell_type": "code",
   "execution_count": 12,
   "id": "e282e76d-fa43-4ab6-a7ea-26e674ee21ea",
   "metadata": {},
   "outputs": [
    {
     "data": {
      "text/plain": [
       "' this is the first python programing class and i am learning python string and its function '"
      ]
     },
     "execution_count": 12,
     "metadata": {},
     "output_type": "execute_result"
    }
   ],
   "source": [
    "s.lower()"
   ]
  },
  {
   "cell_type": "markdown",
   "id": "f08c2cec-3a2b-47da-8f7e-694acf3861e9",
   "metadata": {},
   "source": [
    "Try to capitalize the whole string "
   ]
  },
  {
   "cell_type": "code",
   "execution_count": 13,
   "id": "e2088b29-4f63-4e57-9231-e0c6b61467f5",
   "metadata": {},
   "outputs": [
    {
     "data": {
      "text/plain": [
       "' this is the first python programing class and i am learning python string and its function '"
      ]
     },
     "execution_count": 13,
     "metadata": {},
     "output_type": "execute_result"
    }
   ],
   "source": [
    "s.capitalize()"
   ]
  },
  {
   "cell_type": "markdown",
   "id": "903c5533-f41d-430a-b864-b2f4b702ce94",
   "metadata": {},
   "source": [
    "write a difference between isalnum()andisalpha()"
   ]
  },
  {
   "cell_type": "code",
   "execution_count": 14,
   "id": "50c4fe22-033c-4b5b-a656-752e1ddf52b4",
   "metadata": {},
   "outputs": [],
   "source": [
    "# isalpha give the value as True is all character is the string are alphbets and isalnum gives all the string character are either alphabets and number"
   ]
  },
  {
   "cell_type": "code",
   "execution_count": 18,
   "id": "01a64e44-3678-433e-bfbb-1d8ca280caa6",
   "metadata": {},
   "outputs": [],
   "source": [
    "# for example"
   ]
  },
  {
   "cell_type": "code",
   "execution_count": 19,
   "id": "711bf83f-47ef-4220-af85-4d47fa184709",
   "metadata": {},
   "outputs": [],
   "source": [
    "test=\"acde\"\n",
    "test1=\" ab24c5\""
   ]
  },
  {
   "cell_type": "code",
   "execution_count": 20,
   "id": "faa32845-0948-408d-8ba3-fd210a963da3",
   "metadata": {},
   "outputs": [
    {
     "data": {
      "text/plain": [
       "True"
      ]
     },
     "execution_count": 20,
     "metadata": {},
     "output_type": "execute_result"
    }
   ],
   "source": [
    "test. isalpha()"
   ]
  },
  {
   "cell_type": "code",
   "execution_count": 22,
   "id": "a20e70b0-54af-4a65-bc0c-6a779cd350a5",
   "metadata": {},
   "outputs": [
    {
     "data": {
      "text/plain": [
       "False"
      ]
     },
     "execution_count": 22,
     "metadata": {},
     "output_type": "execute_result"
    }
   ],
   "source": [
    "test1. isalnum()"
   ]
  },
  {
   "cell_type": "markdown",
   "id": "21a42b41-5694-40f5-b915-9b2780ffd5cc",
   "metadata": {},
   "source": [
    "Try to give an example of an expand tab"
   ]
  },
  {
   "cell_type": "code",
   "execution_count": 24,
   "id": "d87fba82-4b16-4805-bec9-dcee919f9bb1",
   "metadata": {},
   "outputs": [],
   "source": [
    "exp=\"This\\thi\\ta\\texample\""
   ]
  },
  {
   "cell_type": "code",
   "execution_count": null,
   "id": "198941e3-a63f-43c3-b8bd-a45b63a147a3",
   "metadata": {},
   "outputs": [],
   "source": []
  }
 ],
 "metadata": {
  "kernelspec": {
   "display_name": "Python 3 (ipykernel)",
   "language": "python",
   "name": "python3"
  },
  "language_info": {
   "codemirror_mode": {
    "name": "ipython",
    "version": 3
   },
   "file_extension": ".py",
   "mimetype": "text/x-python",
   "name": "python",
   "nbconvert_exporter": "python",
   "pygments_lexer": "ipython3",
   "version": "3.12.4"
  }
 },
 "nbformat": 4,
 "nbformat_minor": 5
}
